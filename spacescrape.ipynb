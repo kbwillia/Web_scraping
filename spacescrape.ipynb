{
  "nbformat": 4,
  "nbformat_minor": 0,
  "metadata": {
    "colab": {
      "name": "spacescrape.ipynb",
      "provenance": []
    },
    "kernelspec": {
      "name": "python3",
      "display_name": "Python 3"
    },
    "language_info": {
      "name": "python"
    }
  },
  "cells": [
    {
      "cell_type": "code",
      "execution_count": null,
      "metadata": {
        "colab": {
          "base_uri": "https://localhost:8080/"
        },
        "id": "nj_Mo2yTMV7k",
        "outputId": "8b69396e-a705-4851-9d91-01d1a1a9bb51"
      },
      "outputs": [
        {
          "output_type": "stream",
          "name": "stdout",
          "text": [
            "[{'synopsis': \"\\nIt's the 19th country to join NASA in the agreement, following quickly after Bahrain and Singapore in recent weeks.\\n\", 'headline': 'Colombia signs the Artemis Accords for peaceful space exploration', 'author': '\\nBy\\n\\nElizabeth Howell \\n', 'time': None}, {'synopsis': '\\nThe summer movie lineup heats up with this new trailer for Disney Pixar\\'s \"Lightyear.\"\\n', 'headline': \"Disney's new 'Lightyear' trailer for Buzz Lightyear's time-travel plot\", 'author': '\\nBy\\n\\nJeff Spry \\n', 'time': None}, {'synopsis': '\\nThe original \"Avatar\" blockbuster heads back to multiplexes this fall to prime fans for the Avatar sequel.\\n', 'headline': \"'Avatar' will return to cinemas before sequel 'Avatar: The Way of Water'\", 'author': '\\nBy\\n\\nJeff Spry \\n', 'time': None}, {'synopsis': '\\nDisney has officially dropped the first trailer for director James Cameron\\'s \"Avatar: The Way of Water.\"\\n', 'headline': \"Watch the 1st trailer 'Avatar: The Way of Water' and explore Pandora's exotic reef\", 'author': '\\nBy\\n\\nJeff Spry \\n', 'time': None}, {'synopsis': '\\nParticle physics has always proceeded in two ways, of which new particles is one. The other is by making very precise measurements that test the predictions of theories and look for deviations from what is expected.\\n', 'headline': 'The standard model of particle physics may be broken — an expert explains', 'author': '\\nBy\\n\\nRoger Jones \\n', 'time': None}]\n"
          ]
        }
      ],
      "source": [
        "# Import the libraries \n",
        "from time import time\n",
        "from time import sleep\n",
        "from random import randint\n",
        "from warnings import warn\n",
        "from bs4 import BeautifulSoup\n",
        "import requests\n",
        "\n",
        "\n",
        "def scrape_news(soup, news):\n",
        "  \n",
        "  stories = soup.select('.content')\n",
        "  \n",
        "  for article in stories:\n",
        "    headline = article.select_one('.article-name').get_text()\n",
        "    author = article.select_one('.byline > span:nth-of-type(1)').get_text()\n",
        "    synopsis = article.select_one('.synopsis').get_text()\n",
        "    time = article.select_one('.published-date.relative-date')\n",
        "    dict_article = {'synopsis': synopsis, 'headline':headline, 'author': author, 'time': time}\n",
        "    news.append(dict_article)\n",
        "    \n",
        "def web_scrape(url):   \n",
        "    start_time = time()\n",
        "    request_count = 0\n",
        "    news = []\n",
        "    has_next_page = True\n",
        "    \n",
        "    MAX_REQUESTS = 100\n",
        "    page_number = 1\n",
        "    query = { 'pg': page_number}\n",
        "# Replace [your email] in the line below with your email address\n",
        "    headers = {'user-agent': 'webscraper - school project (amanda.kotler@gmail.com)'}\n",
        "                  \n",
        "    while has_next_page and request_count <= MAX_REQUESTS:\n",
        "      \n",
        "# Complete the line below by using the request library's `get()` method to retrieve the URL passed into the `web_scrape()` function\n",
        "      response = requests.get(url, params=query, headers=headers)\n",
        "      \n",
        "      if(response.ok):\n",
        "        data = response.text\n",
        "        soup = BeautifulSoup(data, 'html.parser')\n",
        "\n",
        "# Complete the line below that extracts the news from `soup` by calling the function `scrape_news()` with the parameters `soup` and `news`\n",
        "        scrape_news(soup, news)\n",
        "        \n",
        "        next_button = soup.select('listings-pagination-button.listings-next')\n",
        "        has_next_page = len(next_button) > 0\n",
        "        \n",
        "      else:\n",
        "          warn('Request #: {}, Failed with status code: {}'.format(request_count, response.status_code))\n",
        "        \n",
        "      request_count += 1\n",
        "      sleep(randint(1,3))\n",
        "        \n",
        "      elapsed_time = time() - start_time\n",
        "\n",
        "        \n",
        "      page_number += 1\n",
        "\n",
        "    return news[0:5]\n",
        "  \n",
        "# Check out the information retrieved for the first five news articles\n",
        "url = 'https://www.space.com/news'  \n",
        "news_scraped = web_scrape(url)\n",
        "print (news_scraped)"
      ]
    },
    {
      "cell_type": "code",
      "source": [
        ""
      ],
      "metadata": {
        "id": "C5cTbkJHMadK"
      },
      "execution_count": null,
      "outputs": []
    },
    {
      "cell_type": "code",
      "source": [
        ""
      ],
      "metadata": {
        "id": "O4f4HpNKMan0"
      },
      "execution_count": null,
      "outputs": []
    },
    {
      "cell_type": "code",
      "source": [
        ""
      ],
      "metadata": {
        "id": "AC5tGum5Maqr"
      },
      "execution_count": null,
      "outputs": []
    },
    {
      "cell_type": "code",
      "source": [
        ""
      ],
      "metadata": {
        "id": "MkKo5NhGMatX"
      },
      "execution_count": null,
      "outputs": []
    },
    {
      "cell_type": "code",
      "source": [
        ""
      ],
      "metadata": {
        "id": "WDTECoC2MawK"
      },
      "execution_count": null,
      "outputs": []
    },
    {
      "cell_type": "code",
      "source": [
        ""
      ],
      "metadata": {
        "id": "hlCzqb-_Mazb"
      },
      "execution_count": null,
      "outputs": []
    },
    {
      "cell_type": "code",
      "source": [
        ""
      ],
      "metadata": {
        "id": "OnjSGMMEMa27"
      },
      "execution_count": null,
      "outputs": []
    }
  ]
}